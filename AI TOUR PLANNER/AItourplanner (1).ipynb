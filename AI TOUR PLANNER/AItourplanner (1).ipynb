{
  "nbformat": 4,
  "nbformat_minor": 0,
  "metadata": {
    "colab": {
      "provenance": []
    },
    "kernelspec": {
      "name": "python3",
      "display_name": "Python 3"
    },
    "language_info": {
      "name": "python"
    }
  },
  "cells": [
    {
      "cell_type": "code",
      "source": [
        "! pip install streamlit"
      ],
      "metadata": {
        "id": "NNdmRjDsg-W7"
      },
      "execution_count": null,
      "outputs": []
    },
    {
      "cell_type": "code",
      "execution_count": null,
      "metadata": {
        "id": "aolG61oObubc"
      },
      "outputs": [],
      "source": [
        "! pip install langchain"
      ]
    },
    {
      "cell_type": "code",
      "source": [
        "! pip install -U langchain-google-genai"
      ],
      "metadata": {
        "id": "xVbtCK-ob27O"
      },
      "execution_count": null,
      "outputs": []
    },
    {
      "cell_type": "code",
      "source": [
        "! pip install --upgrade google-generativeai==0.8.4 google-ai-generativelanguage==0.6.15"
      ],
      "metadata": {
        "id": "6Y-z3blQb3ZL"
      },
      "execution_count": null,
      "outputs": []
    },
    {
      "cell_type": "code",
      "source": [
        "%%writefile tourplanner.py\n",
        "import streamlit as st\n",
        "from langchain_core.prompts import ChatPromptTemplate\n",
        "from langchain_google_genai import ChatGoogleGenerativeAI\n",
        "from langchain_core.output_parsers import JsonOutputParser\n",
        "\n",
        "# Logic 1 Template\n",
        "chat_template = ChatPromptTemplate(\n",
        "    messages =[(\"system\", \"\"\"You are an intelligent and helpful AI travel assistant that helps users find the best travel options\n",
        "                          between a given source and destination. You analyze various travel modes, including cabs, trains, buses,\n",
        "                          and flights, and provide estimated costs, durations, and relevant insights. Your responses should be clear,\n",
        "                          concise, and formatted for easy understanding. If real-time data is available, incorporate it; otherwise,\n",
        "                          provide the best general estimates. Always ensure accuracy and helpfulness in your recommendations.\n",
        "                          Always respond in **valid JSON format** with travel options.\n",
        "                          Your response should be structured as a list of travel options, each containing:\n",
        "                               - Travel mode (e.g., Flight, Train, Bus, Cab)\n",
        "                               - Cost (in INR, prefixed with \"₹\")\n",
        "                               - Duration (e.g., \"5 hours\")\n",
        "                               - Brief details of the trip\n",
        "                          Can include explanations upto 50 words, markdown formatting, or any extra text—only return valid JSON\"\"\"),\n",
        "              (\"human\", \"Find the best travel options from {source} to {destination}.\")\n",
        "              ]\n",
        ")\n",
        "\n",
        "\n",
        "# Logic 2 Model\n",
        "f = open(\"/content/api.txt\")\n",
        "API_KEY = f.read()\n",
        "\n",
        "chat_model = ChatGoogleGenerativeAI(google_api_key=API_KEY,\n",
        "    model=\"gemini-2.0-flash\")\n",
        "\n",
        "# Logic 3 OutputParser\n",
        "chat_parser = JsonOutputParser()\n",
        "\n",
        "# Initializing the Langchain\n",
        "chain = chat_template | chat_model | chat_parser\n",
        "\n",
        "# Function to Get Travel Recommendations\n",
        "def get_travel_recommendations(source, destination):\n",
        "    response = chain.invoke({\"source\": source, \"destination\": destination})\n",
        "    print(\"Raw AI Response:\", response)\n",
        "    return response\n",
        "\n",
        "\n",
        "# Streamlit UI\n",
        "st.set_page_config(page_title=\"AI Tour Planner\", page_icon=\"🌎\", layout=\"centered\")\n",
        "st.title(\"🌎 AI Tour Planner\")\n",
        "st.subheader(\"Find the best travel options for your trip!\")\n",
        "\n",
        "# User Inputs\n",
        "col1, col2 = st.columns(2)\n",
        "\n",
        "with col1:\n",
        "    source = st.text_input(\"Enter Source Location\", placeholder=\"Departure\")\n",
        "\n",
        "with col2:\n",
        "    destination = st.text_input(\"Enter Destination Location\", placeholder=\"Arrival\")\n",
        "\n",
        "# Process on Button Click\n",
        "if st.button(\"Finding Best Travel Options\", use_container_width=True):\n",
        "    if source and destination:\n",
        "        with st.spinner(\"Fetching travel recommendations...\"):\n",
        "            result = get_travel_recommendations(source, destination)\n",
        "\n",
        "\n",
        "            if isinstance(result, list):\n",
        "                st.write(\"### Recommended Travel Options:\")\n",
        "\n",
        "                cols = st.columns(len(result))\n",
        "\n",
        "\n",
        "                for i, option in enumerate(result):\n",
        "                    with cols[i]:\n",
        "                        st.markdown(f\"### {option.get('Travel Mode', 'Unknown')}\")\n",
        "                        st.markdown(f\"**Cost:** {option.get('Cost', 'N/A')}\")\n",
        "                        st.markdown(f\"**Duration:** {option.get('Duration', 'Unknown')}\")\n",
        "                        st.info(option.get('Details', 'No details available'))\n",
        "            else:\n",
        "                st.error(\"Unexpected response format. Please try again.\")\n",
        "    else:\n",
        "        st.warning(\"Please enter both source and destination.\")\n",
        "\n"
      ],
      "metadata": {
        "id": "srlbpUNtb_lQ"
      },
      "execution_count": null,
      "outputs": []
    },
    {
      "cell_type": "code",
      "source": [
        "!npm install localtunnel\n",
        "!streamlit run /content/tourplanner.py &>/content/logs.txt &\n",
        "!npx localtunnel --port 8501 & curl ipv4.icanhazip.com"
      ],
      "metadata": {
        "id": "W-DkIaw-d-4T"
      },
      "execution_count": null,
      "outputs": []
    }
  ]
}